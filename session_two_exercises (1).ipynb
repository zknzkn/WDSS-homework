{
  "nbformat": 4,
  "nbformat_minor": 0,
  "metadata": {
    "kernelspec": {
      "display_name": "Python 3",
      "language": "python",
      "name": "python3"
    },
    "language_info": {
      "codemirror_mode": {
        "name": "ipython",
        "version": 3
      },
      "file_extension": ".py",
      "mimetype": "text/x-python",
      "name": "python",
      "nbconvert_exporter": "python",
      "pygments_lexer": "ipython3",
      "version": "3.7.3"
    },
    "colab": {
      "name": "session_two_exercises.ipynb",
      "provenance": []
    }
  },
  "cells": [
    {
      "cell_type": "markdown",
      "metadata": {
        "id": "12H6DozWX29Y"
      },
      "source": [
        "<a href=\"https://colab.research.google.com/github/warwickdatascience/beginners-python/blob/master/session_two/session_two_exercises.ipynb\" target=\"_parent\"><img src=\"https://colab.research.google.com/assets/colab-badge.svg\" alt=\"Open In Colab\"/></a>"
      ]
    },
    {
      "cell_type": "markdown",
      "metadata": {
        "id": "HZG9Y5KGX29d"
      },
      "source": [
        "<center>Spotted a mistake? Report it <a href=\"https://github.com/warwickdatascience/beginners-python/issues/new\">here</a></center>"
      ]
    },
    {
      "cell_type": "markdown",
      "metadata": {
        "id": "cCOmY5-pX29e"
      },
      "source": [
        "# Beginner's Python—Session Two Homework Exercises"
      ]
    },
    {
      "cell_type": "markdown",
      "metadata": {
        "id": "wmP385MuX29e"
      },
      "source": [
        "## User Input"
      ]
    },
    {
      "cell_type": "markdown",
      "metadata": {
        "id": "1Fi7aoGfX29f"
      },
      "source": [
        "Ask the user for the year, month, and day and use these to print out the date in the following format:\n",
        "\n",
        "`Your date is 1 January, 1970`\n",
        "\n",
        "(Hint: if you want to get the comma looking exactly right, you might have to use string addition)"
      ]
    },
    {
      "cell_type": "code",
      "metadata": {
        "colab": {
          "base_uri": "https://localhost:8080/"
        },
        "id": "lpnyB_CpX29f",
        "outputId": "cc2ba093-fb73-49e6-981b-d3e556eb8fc0"
      },
      "source": [
        "year_var = input(\"what year is it? \")\n",
        "month_var = input(\"what month is it? \")\n",
        "day_var = input(\"what day is it? \")\n",
        "print(\"Your date is\", day_var, month_var, year_var)"
      ],
      "execution_count": 4,
      "outputs": [
        {
          "output_type": "stream",
          "name": "stdout",
          "text": [
            "what year is it? 2021\n",
            "what month is it? October\n",
            "what day is it? 25th\n",
            "Your date is 25th October 2021\n"
          ]
        }
      ]
    },
    {
      "cell_type": "markdown",
      "metadata": {
        "id": "dTaRgw1xX29g"
      },
      "source": [
        "Ask the user to input a decimal number (remember you'll need to use `float()` to convert it from a string). Multiply this $5$, subtract $1.2$ and print the result"
      ]
    },
    {
      "cell_type": "code",
      "metadata": {
        "colab": {
          "base_uri": "https://localhost:8080/"
        },
        "id": "mfOJ7wCVX29h",
        "outputId": "2df71ceb-49d6-485c-a988-5900596bb0a6"
      },
      "source": [
        "dec_number = float(input(\"Type in a decimal number!\"))\n",
        "new_number = dec_number * 5 - 1.2\n",
        "print(new_number)"
      ],
      "execution_count": 5,
      "outputs": [
        {
          "output_type": "stream",
          "name": "stdout",
          "text": [
            "Type in a decimal number!10.1\n",
            "49.3\n"
          ]
        }
      ]
    },
    {
      "cell_type": "markdown",
      "metadata": {
        "id": "N7cdEMKqX29i"
      },
      "source": [
        "## Variable Types"
      ]
    },
    {
      "cell_type": "markdown",
      "metadata": {
        "id": "MNYNBAsyX29j"
      },
      "source": [
        "What happens when you pass a decimal number (such as $3.14$) to `int()`?"
      ]
    },
    {
      "cell_type": "code",
      "metadata": {
        "colab": {
          "base_uri": "https://localhost:8080/"
        },
        "id": "OhmLqD_NX29k",
        "outputId": "6f4cbf53-5b51-413e-91d6-8d6a125c3a16"
      },
      "source": [
        "num_test = int(3.14)\n",
        "print(num_test)"
      ],
      "execution_count": 7,
      "outputs": [
        {
          "output_type": "stream",
          "name": "stdout",
          "text": [
            "3\n"
          ]
        }
      ]
    },
    {
      "cell_type": "markdown",
      "metadata": {
        "id": "DKToeLVMX29k"
      },
      "source": [
        "it is rounding the number"
      ]
    },
    {
      "cell_type": "markdown",
      "metadata": {
        "id": "CSJGhY8lX29k"
      },
      "source": [
        "The `min()` and `max()` functions are versatile. As well being able to input a list of numbers, you are able to pass multiple inputs to these functions, separated by commas, provided they are all of the same type. For example:"
      ]
    },
    {
      "cell_type": "code",
      "metadata": {
        "id": "8xauBnysX29l",
        "outputId": "448872eb-617d-471d-d20a-2b5d90638263"
      },
      "source": [
        "min(2, 5, 1)"
      ],
      "execution_count": null,
      "outputs": [
        {
          "data": {
            "text/plain": [
              "1"
            ]
          },
          "execution_count": 12,
          "metadata": {},
          "output_type": "execute_result"
        }
      ]
    },
    {
      "cell_type": "markdown",
      "metadata": {
        "id": "HDwkTWsvX29o"
      },
      "source": [
        "The versitility doesn't stop there. What happens if we put in two strings as the inputs to either `min()` or `max()`. Experiment and try to find out.\n",
        "\n",
        "(Hint: Try comparing each pair of `Cat`, `Dog`, and `Donkey`)"
      ]
    },
    {
      "cell_type": "code",
      "metadata": {
        "colab": {
          "base_uri": "https://localhost:8080/",
          "height": 35
        },
        "id": "eS1EtomAX29p",
        "outputId": "cf5b0c64-4da9-4d4e-b5fe-d9fe9f4b4453"
      },
      "source": [
        "min(\"Cat\", \"Dog\", \"Donkey\")"
      ],
      "execution_count": 8,
      "outputs": [
        {
          "output_type": "execute_result",
          "data": {
            "application/vnd.google.colaboratory.intrinsic+json": {
              "type": "string"
            },
            "text/plain": [
              "'Cat'"
            ]
          },
          "metadata": {},
          "execution_count": 8
        }
      ]
    },
    {
      "cell_type": "markdown",
      "metadata": {
        "id": "owUYrni3X29p"
      },
      "source": [
        "Is it ranking by the alphabet?"
      ]
    },
    {
      "cell_type": "markdown",
      "metadata": {
        "id": "fzSEJm2gX29p"
      },
      "source": [
        "Say you wanted to add the string `\"Time is 12:\"` to the integer `30` to get the string `\"Time is 12:30\"`. How can you use type conversion to achieve this?"
      ]
    },
    {
      "cell_type": "code",
      "metadata": {
        "colab": {
          "base_uri": "https://localhost:8080/"
        },
        "id": "x8KhpFgMX29q",
        "outputId": "aab7913c-5513-49a1-fd0c-5b8cf1a41a88"
      },
      "source": [
        "time_num = 30\n",
        "print(\"Time is 12:\" + str(time_num))"
      ],
      "execution_count": 11,
      "outputs": [
        {
          "output_type": "stream",
          "name": "stdout",
          "text": [
            "Time is 12:30\n"
          ]
        }
      ]
    },
    {
      "cell_type": "markdown",
      "metadata": {
        "id": "MzyG7wOIX29q"
      },
      "source": [
        "## Sum, Min, Max and Length"
      ]
    },
    {
      "cell_type": "markdown",
      "metadata": {
        "id": "tdXkipCsX29q"
      },
      "source": [
        "Your teammates are aged 20, 33, 45, 57, and 62. Use `input()` to get Python to ask you your age and then make a list containing the 5 ages above and your age"
      ]
    },
    {
      "cell_type": "code",
      "metadata": {
        "colab": {
          "base_uri": "https://localhost:8080/"
        },
        "id": "Y_K6OtL7X29r",
        "outputId": "bd0e559d-77d3-4557-8791-13e11c6766fa"
      },
      "source": [
        "your_age = int(input(\"What is your age?\"))\n",
        "age_list =[20, 33, 45, 57, 62, your_age]\n",
        "print(\"min is:\", min(age_list),\",\",\"max is:\", max(age_list))\n"
      ],
      "execution_count": 16,
      "outputs": [
        {
          "output_type": "stream",
          "name": "stdout",
          "text": [
            "What is your age?22\n",
            "min is: 20 , max is: 62\n"
          ]
        }
      ]
    },
    {
      "cell_type": "markdown",
      "metadata": {
        "id": "jO92pDAHX29r"
      },
      "source": [
        "Find the average age of your team and print it\n",
        "\n",
        "(Hint: The average age is the `sum` of all ages divided by the `len`gth of your list of ages)"
      ]
    },
    {
      "cell_type": "code",
      "metadata": {
        "colab": {
          "base_uri": "https://localhost:8080/"
        },
        "id": "6OEv9eKMX29r",
        "outputId": "6a684cfd-5d6c-4930-a2a4-1f45f99df0b5"
      },
      "source": [
        "sum_age = sum(age_list)\n",
        "len_age = len(age_list)\n",
        "avg_age = sum_age/len_age\n",
        "print(\"the average age is\", avg_age)"
      ],
      "execution_count": 17,
      "outputs": [
        {
          "output_type": "stream",
          "name": "stdout",
          "text": [
            "the average age is 39.833333333333336\n"
          ]
        }
      ]
    },
    {
      "cell_type": "markdown",
      "metadata": {
        "id": "ppv3YWyYX29r"
      },
      "source": [
        "Run the following lines of code to create two lists containing the scores of 30 students in each class"
      ]
    },
    {
      "cell_type": "code",
      "metadata": {
        "id": "CAbAVRskX29r"
      },
      "source": [
        "from random import randrange, seed\n",
        "seed(1729)\n",
        "class_A_scores = [randrange(101) for __ in range(30)]\n",
        "class_B_scores = [randrange(101) for __ in range(30)]"
      ],
      "execution_count": 18,
      "outputs": []
    },
    {
      "cell_type": "markdown",
      "metadata": {
        "id": "pV_pigtlX29s"
      },
      "source": [
        "Use `max()` to find which class contained the highest scoring student"
      ]
    },
    {
      "cell_type": "code",
      "metadata": {
        "colab": {
          "base_uri": "https://localhost:8080/"
        },
        "id": "33KuRJBpX29t",
        "outputId": "70cd11d4-71ed-4197-9fdf-3345fe122ab2"
      },
      "source": [
        "print(\"max score for A is:\", max(class_A_scores), \"max score for B is:\", max(class_B_scores))"
      ],
      "execution_count": 20,
      "outputs": [
        {
          "output_type": "stream",
          "name": "stdout",
          "text": [
            "max score for A is: 97 max score for B is: 92\n"
          ]
        }
      ]
    },
    {
      "cell_type": "markdown",
      "metadata": {
        "id": "N9dl6LadX29t"
      },
      "source": [
        ""
      ]
    },
    {
      "cell_type": "markdown",
      "metadata": {
        "id": "xRzCBLc2X29t"
      },
      "source": [
        "As mentioned above, you can find the minimum or maximum of a collection of numbers without having to first put them in a list. Use this approach to find the minumum and maximum of the numbers 4, 5, 2, and 8"
      ]
    },
    {
      "cell_type": "code",
      "metadata": {
        "colab": {
          "base_uri": "https://localhost:8080/"
        },
        "id": "7FaognXAX29u",
        "outputId": "ca91e941-e06f-43ac-e376-c63c432c1534"
      },
      "source": [
        "print(min(4,5,2,8))\n",
        "print(max(4,5,2,8))"
      ],
      "execution_count": 22,
      "outputs": [
        {
          "output_type": "stream",
          "name": "stdout",
          "text": [
            "2\n",
            "8\n"
          ]
        }
      ]
    },
    {
      "cell_type": "markdown",
      "metadata": {
        "id": "ZnBYX9-ZX29u"
      },
      "source": [
        "Ask the user for two strings and print the length of the shortest"
      ]
    },
    {
      "cell_type": "code",
      "metadata": {
        "colab": {
          "base_uri": "https://localhost:8080/"
        },
        "id": "cBX0twFsX29u",
        "outputId": "b365fb95-a6b8-4a11-fcd1-58d8955f1e20"
      },
      "source": [
        "str_line1 = (input(\"put in string! \"))\n",
        "str_line2 = (input(\"put in strin again! \"))\n",
        "len_line1 = len(str_line1)\n",
        "len_line2 = len(str_line2)\n",
        "if len_line1 < len_line2:\n",
        "  print(str_line1, \"is shorter with a length of:\", len_line1)\n",
        "elif len_line1 > len_line2:\n",
        "  print(str_line2, \"is shorter with a length of:\", len_line2)\n",
        "else:\n",
        "  print(\"the strin length is equal or yuo did smth wrong...\")"
      ],
      "execution_count": 36,
      "outputs": [
        {
          "output_type": "stream",
          "name": "stdout",
          "text": [
            "put in string! jayjay is good\n",
            "put in strin again! yeet\n",
            "yeet is shorter with a length of: 4\n"
          ]
        }
      ]
    }
  ]
}